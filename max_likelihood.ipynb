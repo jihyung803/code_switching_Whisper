{
 "cells": [
  {
   "cell_type": "code",
   "execution_count": 1,
   "metadata": {},
   "outputs": [],
   "source": [
    "from transformers import WhisperProcessor, WhisperForConditionalGeneration\n",
    "import torch.nn.functional as F\n",
    "import torch\n",
    "import torchaudio\n"
   ]
  },
  {
   "cell_type": "code",
   "execution_count": 2,
   "metadata": {},
   "outputs": [],
   "source": [
    "\n",
    "# 모델 및 프로세서 로드\n",
    "processor = WhisperProcessor.from_pretrained(\"openai/whisper-small\")\n",
    "model = WhisperForConditionalGeneration.from_pretrained(\"openai/whisper-small\")\n",
    "\n"
   ]
  },
  {
   "cell_type": "code",
   "execution_count": 3,
   "metadata": {},
   "outputs": [],
   "source": [
    "from datasets import load_dataset, Audio\n",
    "\n",
    "\n",
    "dataset = load_dataset(\"CAiRE/ASCEND\")"
   ]
  },
  {
   "cell_type": "code",
   "execution_count": 4,
   "metadata": {},
   "outputs": [],
   "source": [
    "# 음성 파일 로드 및 전처리\n",
    "audio_data = dataset['train'][1]['audio']  # audio 데이터 가져오기\n",
    "waveform = audio_data[\"array\"]  # waveforms 추출\n",
    "sample_rate = audio_data[\"sampling_rate\"]  # 샘플링 레이트 추출\n",
    "\n",
    "# 다중 채널 오디오를 단일 채널로 변환 (평균)\n",
    "if len(waveform.shape) > 1 and waveform.shape[0] > 1:\n",
    "    waveform = waveform.mean(axis=0)\n",
    "\n",
    "# 샘플링 레이트 변환\n",
    "waveform = torchaudio.transforms.Resample(orig_freq=sample_rate, new_freq=16000)(torch.tensor(waveform))\n",
    "waveform_np = waveform.numpy()\n",
    "\n",
    "# 입력 데이터 생성\n",
    "inputs = processor(waveform_np, sampling_rate=16000, return_tensors=\"pt\")\n",
    "\n",
    "# 언어 프롬프트 설정\n",
    "forced_decoder_ids_en = processor.get_decoder_prompt_ids(language=\"english\", task=\"transcribe\")\n",
    "forced_decoder_ids_zh = processor.get_decoder_prompt_ids(language=\"chinese\", task=\"transcribe\")\n"
   ]
  },
  {
   "cell_type": "code",
   "execution_count": 5,
   "metadata": {},
   "outputs": [
    {
     "name": "stderr",
     "output_type": "stream",
     "text": [
      "/Users/jpark/.pyenv/versions/3.11.10/lib/python3.11/site-packages/transformers/generation/configuration_utils.py:774: UserWarning: `return_dict_in_generate` is NOT set to `True`, but `output_scores` is. When `return_dict_in_generate` is not `True`, `output_scores` is ignored.\n",
      "  warnings.warn(\n",
      "The attention mask is not set and cannot be inferred from input because pad token is same as eos token. As a consequence, you may observe unexpected behavior. Please pass your input's `attention_mask` to obtain reliable results.\n",
      "From v4.47 onwards, when a model cache is to be returned, `generate` will return a `Cache` instance instead by default (as opposed to the legacy tuple of tuples format). If you want to keep returning the legacy format, please set `return_legacy_cache=True`.\n"
     ]
    }
   ],
   "source": [
    "# 영어 logits 계산\n",
    "with torch.no_grad():\n",
    "    outputs_en = model.generate(\n",
    "        inputs.input_features,\n",
    "        forced_decoder_ids=forced_decoder_ids_en,\n",
    "        return_dict_in_generate=True,\n",
    "        output_scores=True\n",
    "    )\n",
    "logits_en = outputs_en.scores  # 영어 확률 분포\n",
    "\n",
    "# 한국어 logits 계산\n",
    "with torch.no_grad():\n",
    "    outputs_zh = model.generate(\n",
    "        inputs.input_features,\n",
    "        forced_decoder_ids=forced_decoder_ids_zh,\n",
    "        return_dict_in_generate=True,\n",
    "        output_scores=True\n",
    "    )\n",
    "logits_zh = outputs_zh.scores  # 한국어 확률 분포\n",
    "\n"
   ]
  },
  {
   "cell_type": "code",
   "execution_count": 7,
   "metadata": {},
   "outputs": [
    {
     "name": "stdout",
     "output_type": "stream",
     "text": [
      "original transcription: 嗯hello我的名字叫徐妍\n",
      "Frame 0: English ->  Hello\n",
      "Frame 1: English -> ,\n",
      "Frame 2: English ->  my\n",
      "Frame 3: Chinese -> 名\n",
      "Frame 4: English ->  is\n",
      "Frame 5: Chinese -> 叫\n",
      "Frame 6: English ->  Yan\n",
      "Frame 7: English -> .\n",
      "Frame 8: English -> <|endoftext|>\n"
     ]
    }
   ],
   "source": [
    "# Code-switching 비교\n",
    "code_switching_result = []\n",
    "for frame_idx in range(len(logits_en)):\n",
    "    english_prob = logits_en[frame_idx].max().item()\n",
    "    chinese_prob = logits_zh[frame_idx].max().item()\n",
    "\n",
    "    if english_prob > chinese_prob:\n",
    "        selected_lang = \"English\"\n",
    "        selected_word = processor.tokenizer.decode(logits_en[frame_idx].argmax().item())\n",
    "    else:\n",
    "        selected_lang = \"Chinese\"\n",
    "        selected_word = processor.tokenizer.decode(logits_zh[frame_idx].argmax().item())\n",
    "\n",
    "    code_switching_result.append((frame_idx, selected_lang, selected_word))\n",
    "\n",
    "# 결과 출력\n",
    "print(f\"original transcription: {dataset['train'][1]['transcription']}\")\n",
    "for frame, lang, word in code_switching_result:\n",
    "    print(f\"Frame {frame}: {lang} -> {word}\")"
   ]
  },
  {
   "cell_type": "code",
   "execution_count": null,
   "metadata": {},
   "outputs": [],
   "source": []
  }
 ],
 "metadata": {
  "kernelspec": {
   "display_name": "Python 3",
   "language": "python",
   "name": "python3"
  },
  "language_info": {
   "codemirror_mode": {
    "name": "ipython",
    "version": 3
   },
   "file_extension": ".py",
   "mimetype": "text/x-python",
   "name": "python",
   "nbconvert_exporter": "python",
   "pygments_lexer": "ipython3",
   "version": "3.11.10"
  }
 },
 "nbformat": 4,
 "nbformat_minor": 2
}
