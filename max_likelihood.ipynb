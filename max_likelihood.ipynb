{
 "cells": [
  {
   "cell_type": "code",
   "execution_count": 63,
   "metadata": {},
   "outputs": [],
   "source": [
    "from transformers import WhisperProcessor, WhisperForConditionalGeneration\n",
    "import torch.nn.functional as F\n",
    "import torch\n",
    "import torchaudio\n"
   ]
  },
  {
   "cell_type": "code",
   "execution_count": 64,
   "metadata": {},
   "outputs": [],
   "source": [
    "\n",
    "# 모델 및 프로세서 로드\n",
    "processor = WhisperProcessor.from_pretrained(\"openai/whisper-large-v3-turbo\")\n",
    "model = WhisperForConditionalGeneration.from_pretrained(\"openai/whisper-large-v3-turbo\")\n",
    "\n"
   ]
  },
  {
   "cell_type": "code",
   "execution_count": 65,
   "metadata": {},
   "outputs": [],
   "source": [
    "from datasets import load_dataset, Audio\n",
    "\n",
    "\n",
    "dataset = load_dataset(\"CAiRE/ASCEND\")"
   ]
  },
  {
   "cell_type": "code",
   "execution_count": 66,
   "metadata": {},
   "outputs": [],
   "source": [
    "# 음성 파일 로드 및 전처리\n",
    "audio_data = dataset['train'][41]['audio']  # audio 데이터 가져오기\n",
    "waveform = audio_data[\"array\"]  # waveforms 추출\n",
    "sample_rate = audio_data[\"sampling_rate\"]  # 샘플링 레이트 추출\n",
    "\n",
    "# 다중 채널 오디오를 단일 채널로 변환 (평균)\n",
    "if len(waveform.shape) > 1 and waveform.shape[0] > 1:\n",
    "    waveform = waveform.mean(axis=0)\n",
    "\n",
    "# 샘플링 레이트 변환\n",
    "waveform = torchaudio.transforms.Resample(orig_freq=sample_rate, new_freq=16000)(torch.tensor(waveform))\n",
    "waveform_np = waveform.numpy()\n",
    "\n",
    "# 입력 데이터 생성\n",
    "inputs = processor(waveform_np, sampling_rate=16000, return_tensors=\"pt\")\n",
    "\n",
    "# 언어 프롬프트 설정\n",
    "forced_decoder_ids_en = processor.get_decoder_prompt_ids(language=\"english\", task=\"transcribe\")\n",
    "forced_decoder_ids_zh = processor.get_decoder_prompt_ids(language=\"chinese\", task=\"transcribe\")\n"
   ]
  },
  {
   "cell_type": "code",
   "execution_count": 67,
   "metadata": {},
   "outputs": [],
   "source": [
    "# 영어 logits 계산\n",
    "with torch.no_grad():\n",
    "    outputs_en = model.generate(\n",
    "        inputs.input_features,\n",
    "        forced_decoder_ids=forced_decoder_ids_en,\n",
    "        return_dict_in_generate=True,\n",
    "        output_scores=True\n",
    "    )\n",
    "logits_en = outputs_en.scores  # 영어 확률 분포\n",
    "\n",
    "# 한국어 logits 계산\n",
    "with torch.no_grad():\n",
    "    outputs_zh = model.generate(\n",
    "        inputs.input_features,\n",
    "        forced_decoder_ids=forced_decoder_ids_zh,\n",
    "        return_dict_in_generate=True,\n",
    "        output_scores=True\n",
    "    )\n",
    "logits_zh = outputs_zh.scores  # 한국어 확률 분포\n",
    "\n"
   ]
  },
  {
   "cell_type": "code",
   "execution_count": 68,
   "metadata": {},
   "outputs": [],
   "source": [
    "penalty_value = 5.0  # 영어에 부여할 패널티 값 (적절한 값으로 설정)\n",
    "\n",
    "# 영어 로짓에 패널티 적용\n",
    "english_logits = [logit - penalty_value for logit in logits_en]\n",
    "\n",
    "# 확률 계산\n",
    "english_probs = [F.softmax(logit, dim=-1) for logit in english_logits]\n",
    "chinese_probs = [F.softmax(logit, dim=-1) for logit in logits_zh]\n",
    "\n",
    "# Code-switching 비교\n",
    "inference_text = []\n",
    "code_switching_result = []\n",
    "for frame_idx in range(len(english_probs)):\n",
    "    english_prob = english_probs[frame_idx].max().item()\n",
    "    chinese_prob = chinese_probs[frame_idx].max().item()\n",
    "\n",
    "    if english_prob > chinese_prob:\n",
    "        selected_lang = \"English\"\n",
    "        selected_word = processor.tokenizer.decode(english_probs[frame_idx].argmax().item())\n",
    "    else:\n",
    "        selected_lang = \"Chinese\"\n",
    "        selected_word = processor.tokenizer.decode(chinese_probs[frame_idx].argmax().item())\n",
    "    \n",
    "    inference_text.append(selected_word)\n",
    "    code_switching_result.append((frame_idx, selected_lang, selected_word))"
   ]
  },
  {
   "cell_type": "code",
   "execution_count": 69,
   "metadata": {},
   "outputs": [
    {
     "name": "stdout",
     "output_type": "stream",
     "text": [
      "Original transcription (Gold): i remember呃在我本科的时候我花过挺长的时间\n",
      "Inference transcription:  I  remember , 在 我 本 科  I , 我有 花 過  time 長\n",
      "Semantic Similarity: 0.6353\n",
      "Frame 0: English ->  I\n",
      "Frame 1: English ->  remember\n",
      "Frame 2: Chinese -> ,\n",
      "Frame 3: Chinese -> 在\n",
      "Frame 4: Chinese -> 我\n",
      "Frame 5: Chinese -> 本\n",
      "Frame 6: Chinese -> 科\n",
      "Frame 7: English ->  I\n",
      "Frame 8: Chinese -> ,\n",
      "Frame 9: Chinese -> 我有\n",
      "Frame 10: Chinese -> 花\n",
      "Frame 11: Chinese -> 過\n",
      "Frame 12: English ->  time\n",
      "Frame 13: Chinese -> 長\n"
     ]
    }
   ],
   "source": [
    "from sentence_transformers import SentenceTransformer, util\n",
    "\n",
    "# Inference 텍스트 결합\n",
    "inference_text = \" \".join(inference_text)\n",
    "\n",
    "# Gold 텍스트 가져오기\n",
    "gold_text = dataset['train'][41]['transcription']\n",
    "\n",
    "# 의미적 유사도 계산\n",
    "model2 = SentenceTransformer('paraphrase-multilingual-MiniLM-L12-v2')\n",
    "gold_embedding = model2.encode(gold_text, convert_to_tensor=True)\n",
    "inference_embedding = model2.encode(inference_text, convert_to_tensor=True)\n",
    "similarity = util.cos_sim(gold_embedding, inference_embedding).item()\n",
    "\n",
    "# 결과 출력\n",
    "print(f\"Original transcription (Gold): {gold_text}\")\n",
    "print(f\"Inference transcription: {inference_text}\")\n",
    "print(f\"Semantic Similarity: {similarity:.4f}\")\n",
    "\n",
    "# 프레임별 결과 출력\n",
    "for frame, lang, word in code_switching_result:\n",
    "    print(f\"Frame {frame}: {lang} -> {word}\")"
   ]
  },
  {
   "cell_type": "markdown",
   "metadata": {},
   "source": [
    "•    The Whisper model uses Byte Pair Encoding (BPE) to tokenize text.\n",
    "    <br>•    BPE breaks down text into frequently used subword units, which can cause some words to be split or appear shorter.\n",
    "    <br>•    Especially for languages like Chinese, where each character carries meaning, BPE may fail to combine tokens appropriately.\n",
    "<br>If we can find some other language dataset, we may get much better result"
   ]
  },
  {
   "cell_type": "markdown",
   "metadata": {},
   "source": []
  }
 ],
 "metadata": {
  "kernelspec": {
   "display_name": "Python 3",
   "language": "python",
   "name": "python3"
  },
  "language_info": {
   "codemirror_mode": {
    "name": "ipython",
    "version": 3
   },
   "file_extension": ".py",
   "mimetype": "text/x-python",
   "name": "python",
   "nbconvert_exporter": "python",
   "pygments_lexer": "ipython3",
   "version": "3.11.10"
  }
 },
 "nbformat": 4,
 "nbformat_minor": 2
}
