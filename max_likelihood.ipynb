{
 "cells": [
  {
   "cell_type": "code",
   "execution_count": 1,
   "metadata": {},
   "outputs": [],
   "source": [
    "from transformers import WhisperProcessor, WhisperForConditionalGeneration\n",
    "import torch.nn.functional as F\n",
    "import torch\n",
    "import torchaudio\n"
   ]
  },
  {
   "cell_type": "code",
   "execution_count": 2,
   "metadata": {},
   "outputs": [],
   "source": [
    "\n",
    "# 모델 및 프로세서 로드\n",
    "processor = WhisperProcessor.from_pretrained(\"openai/whisper-small\")\n",
    "model = WhisperForConditionalGeneration.from_pretrained(\"openai/whisper-small\")\n",
    "\n"
   ]
  },
  {
   "cell_type": "code",
   "execution_count": 3,
   "metadata": {},
   "outputs": [],
   "source": [
    "from datasets import load_dataset, Audio\n",
    "\n",
    "\n",
    "dataset = load_dataset(\"CAiRE/ASCEND\")"
   ]
  },
  {
   "cell_type": "code",
   "execution_count": null,
   "metadata": {},
   "outputs": [],
   "source": [
    "# 음성 파일 로드 및 전처리\n",
    "audio_data = dataset['train'][1]['audio']  # audio 데이터 가져오기\n",
    "waveform = audio_data[\"array\"]  # waveforms 추출\n",
    "sample_rate = audio_data[\"sampling_rate\"]  # 샘플링 레이트 추출\n",
    "\n",
    "# 다중 채널 오디오를 단일 채널로 변환 (평균)\n",
    "if len(waveform.shape) > 1 and waveform.shape[0] > 1:\n",
    "    waveform = waveform.mean(axis=0)\n",
    "\n",
    "# 샘플링 레이트 변환\n",
    "waveform = torchaudio.transforms.Resample(orig_freq=sample_rate, new_freq=16000)(torch.tensor(waveform))\n",
    "waveform_np = waveform.numpy()\n",
    "\n",
    "# 입력 데이터 생성\n",
    "inputs = processor(waveform_np, sampling_rate=16000, return_tensors=\"pt\")\n",
    "\n",
    "# 언어 프롬프트 설정\n",
    "forced_decoder_ids_en = processor.get_decoder_prompt_ids(language=\"english\", task=\"transcribe\")\n",
    "forced_decoder_ids_zh = processor.get_decoder_prompt_ids(language=\"chinese\", task=\"transcribe\")\n"
   ]
  },
  {
   "cell_type": "code",
   "execution_count": 8,
   "metadata": {},
   "outputs": [],
   "source": [
    "# 영어 logits 계산\n",
    "with torch.no_grad():\n",
    "    outputs_en = model.generate(\n",
    "        inputs.input_features,\n",
    "        forced_decoder_ids=forced_decoder_ids_en,\n",
    "        return_dict_in_generate=True,\n",
    "        output_scores=True\n",
    "    )\n",
    "logits_en = outputs_en.scores  # 영어 확률 분포\n",
    "\n",
    "# 한국어 logits 계산\n",
    "with torch.no_grad():\n",
    "    outputs_zh = model.generate(\n",
    "        inputs.input_features,\n",
    "        forced_decoder_ids=forced_decoder_ids_zh,\n",
    "        return_dict_in_generate=True,\n",
    "        output_scores=True\n",
    "    )\n",
    "logits_zh = outputs_zh.scores  # 한국어 확률 분포\n",
    "\n"
   ]
  },
  {
   "cell_type": "code",
   "execution_count": 11,
   "metadata": {},
   "outputs": [
    {
     "ename": "IndexError",
     "evalue": "tuple index out of range",
     "output_type": "error",
     "traceback": [
      "\u001b[0;31m---------------------------------------------------------------------------\u001b[0m",
      "\u001b[0;31mIndexError\u001b[0m                                Traceback (most recent call last)",
      "Cell \u001b[0;32mIn[11], line 5\u001b[0m\n\u001b[1;32m      3\u001b[0m \u001b[38;5;28;01mfor\u001b[39;00m frame_idx \u001b[38;5;129;01min\u001b[39;00m \u001b[38;5;28mrange\u001b[39m(\u001b[38;5;28mlen\u001b[39m(logits_en)):\n\u001b[1;32m      4\u001b[0m     english_prob \u001b[38;5;241m=\u001b[39m logits_en[frame_idx]\u001b[38;5;241m.\u001b[39mmax()\u001b[38;5;241m.\u001b[39mitem()\n\u001b[0;32m----> 5\u001b[0m     chinese_prob \u001b[38;5;241m=\u001b[39m \u001b[43mlogits_zh\u001b[49m\u001b[43m[\u001b[49m\u001b[43mframe_idx\u001b[49m\u001b[43m]\u001b[49m\u001b[38;5;241m.\u001b[39mmax()\u001b[38;5;241m.\u001b[39mitem()\n\u001b[1;32m      7\u001b[0m     \u001b[38;5;28;01mif\u001b[39;00m english_prob \u001b[38;5;241m>\u001b[39m chinese_prob:\n\u001b[1;32m      8\u001b[0m         selected_lang \u001b[38;5;241m=\u001b[39m \u001b[38;5;124m\"\u001b[39m\u001b[38;5;124mEnglish\u001b[39m\u001b[38;5;124m\"\u001b[39m\n",
      "\u001b[0;31mIndexError\u001b[0m: tuple index out of range"
     ]
    }
   ],
   "source": [
    "# Code-switching 비교\n",
    "code_switching_result = []\n",
    "for frame_idx in range(len(logits_en)):\n",
    "    english_prob = logits_en[frame_idx].max().item()\n",
    "    chinese_prob = logits_zh[frame_idx].max().item()\n",
    "\n",
    "    if english_prob > chinese_prob:\n",
    "        selected_lang = \"English\"\n",
    "        selected_word = processor.tokenizer.decode(logits_en[frame_idx].argmax().item())\n",
    "    else:\n",
    "        selected_lang = \"Chinese\"\n",
    "        selected_word = processor.tokenizer.decode(logits_zh[frame_idx].argmax().item())\n",
    "\n",
    "    code_switching_result.append((frame_idx, selected_lang, selected_word))\n",
    "\n",
    "# 결과 출력\n",
    "for frame, lang, word in code_switching_result:\n",
    "    print(f\"Frame {frame}: {lang} -> {word}\")"
   ]
  },
  {
   "cell_type": "code",
   "execution_count": null,
   "metadata": {},
   "outputs": [],
   "source": []
  }
 ],
 "metadata": {
  "kernelspec": {
   "display_name": "Python 3",
   "language": "python",
   "name": "python3"
  },
  "language_info": {
   "codemirror_mode": {
    "name": "ipython",
    "version": 3
   },
   "file_extension": ".py",
   "mimetype": "text/x-python",
   "name": "python",
   "nbconvert_exporter": "python",
   "pygments_lexer": "ipython3",
   "version": "3.11.10"
  }
 },
 "nbformat": 4,
 "nbformat_minor": 2
}
